{
 "cells": [
  {
   "cell_type": "markdown",
   "id": "7f5649de-e029-4ee2-8ce1-ad58d8cad5fd",
   "metadata": {},
   "source": [
    "# Project 1: The Strategic Product Analytics Showcase\n",
    "## Notebook 2: Investigating the Drop-off with Funnel Analysis\n",
    "\n",
    "### Objective\n",
    "\n",
    "In the previous notebook, we diagnosed a critical business problem: **monthly user retention plummets to a mere 2-6% after the first month**. We concluded this is a fundamental \"Failure to Activate,\" meaning users aren't experiencing the product's core value.\n",
    "\n",
    "This notebook moves from diagnosis to **investigation**. Our goal is to test that \"Failure to Activate\" hypothesis by analyzing the core e-commerce conversion funnel. By mapping the user journey from viewing a product to making a purchase, we can pinpoint the *exact stage* where the vast majority of users drop off.\n",
    "\n",
    "Our defined funnel is:\n",
    "1.  **View Product:** The user views an item.\n",
    "2.  **Add to Cart:** The user adds an item to their shopping cart.\n",
    "3.  **Purchase:** The user completes the purchase."
   ]
  },
  {
   "cell_type": "code",
   "execution_count": 2,
   "id": "71c3e96d-e3ea-41b5-a26a-9e36b6b2adf1",
   "metadata": {},
   "outputs": [
    {
     "name": "stdout",
     "output_type": "stream",
     "text": [
      "Libraries imported successfully.\n"
     ]
    }
   ],
   "source": [
    "# --- 1. Setup & Imports ---\n",
    "import pandas as pd\n",
    "import numpy as np\n",
    "import plotly.graph_objects as go\n",
    "import plotly.io as pio\n",
    "\n",
    "# Set a professional-looking template for Plotly for high-quality visuals\n",
    "pio.templates.default = \"plotly_white\"\n",
    "\n",
    "print(\"Libraries imported successfully.\")"
   ]
  },
  {
   "cell_type": "markdown",
   "id": "c2c95f93-eaf3-499d-8043-34224d828c3d",
   "metadata": {},
   "source": [
    "### 2. Data Loading\n",
    "\n",
    "We'll reload the same dataset used in Notebook 1 to ensure our analysis is perfectly consistent. We will again sample the last 1 million events to maintain a manageable size for this interactive analysis."
   ]
  },
  {
   "cell_type": "code",
   "execution_count": 3,
   "id": "7562a815-c279-4683-ba71-fc8d1cc08526",
   "metadata": {},
   "outputs": [
    {
     "name": "stdout",
     "output_type": "stream",
     "text": [
      "Dataset loaded successfully. Total events: 885129\n",
      "\n",
      "Working with a sample of the most recent 885,129 events.\n"
     ]
    }
   ],
   "source": [
    "# --- 2. Load and Inspect the Data ---\n",
    "DATA_PATH = '../data/events.csv'\n",
    "\n",
    "# Load the dataset\n",
    "try:\n",
    "    df_events = pd.read_csv(DATA_PATH)\n",
    "    print(f\"Dataset loaded successfully. Total events: {len(df_events)}\")\n",
    "except FileNotFoundError:\n",
    "    print(f\"Error: {DATA_PATH} not found.\")\n",
    "    df_events = pd.DataFrame()\n",
    "\n",
    "if not df_events.empty:\n",
    "    # Work with a sample of the most recent 1M events\n",
    "    df_events = df_events.tail(1000000).copy()\n",
    "    print(f\"\\nWorking with a sample of the most recent {len(df_events):,} events.\")"
   ]
  },
  {
   "cell_type": "markdown",
   "id": "354918bc-c3bd-487d-b98e-82db6c47c540",
   "metadata": {},
   "source": [
    "### 3. Data Preparation for Funnel Analysis\n",
    "\n",
    "To build the funnel, we need to determine how many unique user sessions completed each step. A `user_session` represents a single visit, which is the correct scope for a conversion funnel analysis.\n",
    "\n",
    "We will:\n",
    "1.  Filter the events to include only our defined funnel steps: `view`, `cart`, and `purchase`.\n",
    "2.  Use `pd.crosstab` to create a summary table. This is an efficient way to count the occurrences of each event type for every unique `user_session`.\n",
    "3.  Convert the counts into boolean flags (True/False) to indicate whether a session included a specific event type at least once."
   ]
  },
  {
   "cell_type": "code",
   "execution_count": 5,
   "id": "a3072a67-d33a-4989-90a4-a84ddf7dd372",
   "metadata": {},
   "outputs": [
    {
     "name": "stdout",
     "output_type": "stream",
     "text": [
      "Raw event counts per session (sample):\n"
     ]
    },
    {
     "data": {
      "text/html": [
       "<div>\n",
       "<style scoped>\n",
       "    .dataframe tbody tr th:only-of-type {\n",
       "        vertical-align: middle;\n",
       "    }\n",
       "\n",
       "    .dataframe tbody tr th {\n",
       "        vertical-align: top;\n",
       "    }\n",
       "\n",
       "    .dataframe thead th {\n",
       "        text-align: right;\n",
       "    }\n",
       "</style>\n",
       "<table border=\"1\" class=\"dataframe\">\n",
       "  <thead>\n",
       "    <tr style=\"text-align: right;\">\n",
       "      <th>event_type</th>\n",
       "      <th>cart</th>\n",
       "      <th>purchase</th>\n",
       "      <th>view</th>\n",
       "    </tr>\n",
       "    <tr>\n",
       "      <th>user_session</th>\n",
       "      <th></th>\n",
       "      <th></th>\n",
       "      <th></th>\n",
       "    </tr>\n",
       "  </thead>\n",
       "  <tbody>\n",
       "    <tr>\n",
       "      <th>000AMhYaQu</th>\n",
       "      <td>0</td>\n",
       "      <td>0</td>\n",
       "      <td>1</td>\n",
       "    </tr>\n",
       "    <tr>\n",
       "      <th>000c34fa-991f-442a-8e07-8c472269bec6</th>\n",
       "      <td>0</td>\n",
       "      <td>0</td>\n",
       "      <td>1</td>\n",
       "    </tr>\n",
       "    <tr>\n",
       "      <th>001HttdHUk</th>\n",
       "      <td>0</td>\n",
       "      <td>0</td>\n",
       "      <td>1</td>\n",
       "    </tr>\n",
       "    <tr>\n",
       "      <th>001P7lK0Pt</th>\n",
       "      <td>0</td>\n",
       "      <td>0</td>\n",
       "      <td>2</td>\n",
       "    </tr>\n",
       "    <tr>\n",
       "      <th>001RxUtFJa</th>\n",
       "      <td>0</td>\n",
       "      <td>0</td>\n",
       "      <td>1</td>\n",
       "    </tr>\n",
       "  </tbody>\n",
       "</table>\n",
       "</div>"
      ],
      "text/plain": [
       "event_type                            cart  purchase  view\n",
       "user_session                                              \n",
       "000AMhYaQu                               0         0     1\n",
       "000c34fa-991f-442a-8e07-8c472269bec6     0         0     1\n",
       "001HttdHUk                               0         0     1\n",
       "001P7lK0Pt                               0         0     2\n",
       "001RxUtFJa                               0         0     1"
      ]
     },
     "metadata": {},
     "output_type": "display_data"
    },
    {
     "name": "stdout",
     "output_type": "stream",
     "text": [
      "\n",
      "Boolean flags for funnel events per session (sample):\n"
     ]
    },
    {
     "data": {
      "text/html": [
       "<div>\n",
       "<style scoped>\n",
       "    .dataframe tbody tr th:only-of-type {\n",
       "        vertical-align: middle;\n",
       "    }\n",
       "\n",
       "    .dataframe tbody tr th {\n",
       "        vertical-align: top;\n",
       "    }\n",
       "\n",
       "    .dataframe thead th {\n",
       "        text-align: right;\n",
       "    }\n",
       "</style>\n",
       "<table border=\"1\" class=\"dataframe\">\n",
       "  <thead>\n",
       "    <tr style=\"text-align: right;\">\n",
       "      <th>event_type</th>\n",
       "      <th>user_session</th>\n",
       "      <th>cart</th>\n",
       "      <th>purchase</th>\n",
       "      <th>view</th>\n",
       "    </tr>\n",
       "  </thead>\n",
       "  <tbody>\n",
       "    <tr>\n",
       "      <th>0</th>\n",
       "      <td>000AMhYaQu</td>\n",
       "      <td>False</td>\n",
       "      <td>False</td>\n",
       "      <td>True</td>\n",
       "    </tr>\n",
       "    <tr>\n",
       "      <th>1</th>\n",
       "      <td>000c34fa-991f-442a-8e07-8c472269bec6</td>\n",
       "      <td>False</td>\n",
       "      <td>False</td>\n",
       "      <td>True</td>\n",
       "    </tr>\n",
       "    <tr>\n",
       "      <th>2</th>\n",
       "      <td>001HttdHUk</td>\n",
       "      <td>False</td>\n",
       "      <td>False</td>\n",
       "      <td>True</td>\n",
       "    </tr>\n",
       "    <tr>\n",
       "      <th>3</th>\n",
       "      <td>001P7lK0Pt</td>\n",
       "      <td>False</td>\n",
       "      <td>False</td>\n",
       "      <td>True</td>\n",
       "    </tr>\n",
       "    <tr>\n",
       "      <th>4</th>\n",
       "      <td>001RxUtFJa</td>\n",
       "      <td>False</td>\n",
       "      <td>False</td>\n",
       "      <td>True</td>\n",
       "    </tr>\n",
       "  </tbody>\n",
       "</table>\n",
       "</div>"
      ],
      "text/plain": [
       "event_type                          user_session   cart  purchase  view\n",
       "0                                     000AMhYaQu  False     False  True\n",
       "1           000c34fa-991f-442a-8e07-8c472269bec6  False     False  True\n",
       "2                                     001HttdHUk  False     False  True\n",
       "3                                     001P7lK0Pt  False     False  True\n",
       "4                                     001RxUtFJa  False     False  True"
      ]
     },
     "metadata": {},
     "output_type": "display_data"
    }
   ],
   "source": [
    "# --- 3. Prepare Data for Funnel ---\n",
    "if not df_events.empty:\n",
    "    # Define the sequence of events in our funnel\n",
    "    funnel_steps = ['view', 'cart', 'purchase']\n",
    "    \n",
    "    # Filter for only the events that are part of our funnel\n",
    "    df_funnel = df_events[df_events['event_type'].isin(funnel_steps)].copy()\n",
    "    \n",
    "    # Create a summary table counting event types per user session\n",
    "    session_event_counts = pd.crosstab(df_funnel['user_session'], df_funnel['event_type'])\n",
    "    \n",
    "    print(\"Raw event counts per session (sample):\")\n",
    "    display(session_event_counts.head())\n",
    "    \n",
    "    # Convert counts to boolean flags (did the event happen at least once?)\n",
    "    funnel_data = (session_event_counts > 0).reset_index()\n",
    "    \n",
    "    # Ensure all funnel step columns exist, filling missing ones with False\n",
    "    for step in funnel_steps:\n",
    "        if step not in funnel_data.columns:\n",
    "            funnel_data[step] = False\n",
    "\n",
    "    print(\"\\nBoolean flags for funnel events per session (sample):\")\n",
    "    display(funnel_data.head())"
   ]
  },
  {
   "cell_type": "markdown",
   "id": "2092d9e5-537e-4b6d-b302-6ae726c72b9b",
   "metadata": {},
   "source": [
    "### 4. Calculating Funnel Conversion\n",
    "\n",
    "Now we will calculate the number of sessions that reached each stage of the funnel. The logic must be sequential to be meaningful:\n",
    "- **Step 1 (View):** All sessions containing at least one `view` event.\n",
    "- **Step 2 (Cart):** Of those who viewed, how many *also* had a `cart` event in the same session?\n",
    "- **Step 3 (Purchase):** Of those who added to cart, how many *also* had a `purchase` event in the same session?\n",
    "\n",
    "This methodology isolates the conversion rate between each specific step."
   ]
  },
  {
   "cell_type": "code",
   "execution_count": 6,
   "id": "c0b170d1-0798-4337-8445-28f4d9411e9f",
   "metadata": {},
   "outputs": [
    {
     "name": "stdout",
     "output_type": "stream",
     "text": [
      "Funnel Conversion Summary:\n"
     ]
    },
    {
     "data": {
      "text/html": [
       "<style type=\"text/css\">\n",
       "</style>\n",
       "<table id=\"T_7354a\">\n",
       "  <thead>\n",
       "    <tr>\n",
       "      <th class=\"blank level0\" >&nbsp;</th>\n",
       "      <th id=\"T_7354a_level0_col0\" class=\"col_heading level0 col0\" >Step</th>\n",
       "      <th id=\"T_7354a_level0_col1\" class=\"col_heading level0 col1\" >Count</th>\n",
       "      <th id=\"T_7354a_level0_col2\" class=\"col_heading level0 col2\" >Conversion from Previous Step</th>\n",
       "      <th id=\"T_7354a_level0_col3\" class=\"col_heading level0 col3\" >Overall Conversion from View</th>\n",
       "    </tr>\n",
       "  </thead>\n",
       "  <tbody>\n",
       "    <tr>\n",
       "      <th id=\"T_7354a_level0_row0\" class=\"row_heading level0 row0\" >0</th>\n",
       "      <td id=\"T_7354a_row0_col0\" class=\"data row0 col0\" >View</td>\n",
       "      <td id=\"T_7354a_row0_col1\" class=\"data row0 col1\" >488,360</td>\n",
       "      <td id=\"T_7354a_row0_col2\" class=\"data row0 col2\" >100.00%</td>\n",
       "      <td id=\"T_7354a_row0_col3\" class=\"data row0 col3\" >100.00%</td>\n",
       "    </tr>\n",
       "    <tr>\n",
       "      <th id=\"T_7354a_level0_row1\" class=\"row_heading level0 row1\" >1</th>\n",
       "      <td id=\"T_7354a_row1_col0\" class=\"data row1 col0\" >Cart</td>\n",
       "      <td id=\"T_7354a_row1_col1\" class=\"data row1 col1\" >41,256</td>\n",
       "      <td id=\"T_7354a_row1_col2\" class=\"data row1 col2\" >8.45%</td>\n",
       "      <td id=\"T_7354a_row1_col3\" class=\"data row1 col3\" >8.45%</td>\n",
       "    </tr>\n",
       "    <tr>\n",
       "      <th id=\"T_7354a_level0_row2\" class=\"row_heading level0 row2\" >2</th>\n",
       "      <td id=\"T_7354a_row2_col0\" class=\"data row2 col0\" >Purchase</td>\n",
       "      <td id=\"T_7354a_row2_col1\" class=\"data row2 col1\" >20,754</td>\n",
       "      <td id=\"T_7354a_row2_col2\" class=\"data row2 col2\" >50.31%</td>\n",
       "      <td id=\"T_7354a_row2_col3\" class=\"data row2 col3\" >4.25%</td>\n",
       "    </tr>\n",
       "  </tbody>\n",
       "</table>\n"
      ],
      "text/plain": [
       "<pandas.io.formats.style.Styler at 0x1ce841dbe00>"
      ]
     },
     "metadata": {},
     "output_type": "display_data"
    }
   ],
   "source": [
    "# --- 4. Calculate Funnel Numbers ---\n",
    "if 'funnel_data' in locals():\n",
    "    # Step 1: Sessions with a 'view'\n",
    "    view_sessions = funnel_data[funnel_data['view']]\n",
    "    n_view = len(view_sessions)\n",
    "\n",
    "    # Step 2: Of those who viewed, how many added to cart?\n",
    "    cart_sessions = view_sessions[view_sessions['cart']]\n",
    "    n_cart = len(cart_sessions)\n",
    "\n",
    "    # Step 3: Of those who added to cart, how many purchased?\n",
    "    purchase_sessions = cart_sessions[cart_sessions['purchase']]\n",
    "    n_purchase = len(purchase_sessions)\n",
    "\n",
    "    # Compile the results into a clean DataFrame\n",
    "    funnel_summary = pd.DataFrame({\n",
    "        'Step': ['View', 'Cart', 'Purchase'],\n",
    "        'Count': [n_view, n_cart, n_purchase]\n",
    "    })\n",
    "    \n",
    "    # Calculate conversion rates for analysis\n",
    "    funnel_summary['Conversion from Previous Step'] = (funnel_summary['Count'] / funnel_summary['Count'].shift(1)).fillna(1.0)\n",
    "    funnel_summary['Overall Conversion from View'] = (funnel_summary['Count'] / n_view).fillna(1.0)\n",
    "\n",
    "    print(\"Funnel Conversion Summary:\")\n",
    "    display(funnel_summary.style.format({\n",
    "        'Count': '{:,.0f}',\n",
    "        'Conversion from Previous Step': '{:.2%}',\n",
    "        'Overall Conversion from View': '{:.2%}'\n",
    "    }))"
   ]
  },
  {
   "cell_type": "markdown",
   "id": "46ed5682-0b64-4b15-9f2e-4c31026c9b9a",
   "metadata": {},
   "source": [
    "### 5. Visualizing the Funnel\n",
    "\n",
    "A funnel chart is the most effective way to communicate these findings to stakeholders. It provides an intuitive visualization of the drop-off at each stage. We will use `plotly` to create a professional and interactive chart that clearly tells the story."
   ]
  },
  {
   "cell_type": "code",
   "execution_count": 9,
   "id": "61d787e1-c08c-4fa1-85db-c216e09199c3",
   "metadata": {},
   "outputs": [
    {
     "data": {
      "application/vnd.plotly.v1+json": {
       "config": {
        "plotlyServerURL": "https://plot.ly"
       },
       "data": [
        {
         "connector": {
          "line": {
           "color": "grey",
           "dash": "dot",
           "width": 3
          }
         },
         "marker": {
          "color": [
           "#4E79A7",
           "#F28E2B",
           "#59A14F"
          ],
          "line": {
           "color": [
            "#3B597F",
            "#C27122",
            "#47813F"
           ],
           "width": [
            2,
            2,
            2
           ]
          }
         },
         "opacity": 0.8,
         "textinfo": "value+percent initial+percent previous",
         "textposition": "inside",
         "type": "funnel",
         "x": {
          "bdata": "qHMHACihAAASUQAA",
          "dtype": "i4"
         },
         "y": [
          "View",
          "Cart",
          "Purchase"
         ]
        }
       ],
       "layout": {
        "font": {
         "color": "black",
         "family": "Arial, sans-serif",
         "size": 12
        },
        "template": {
         "data": {
          "bar": [
           {
            "error_x": {
             "color": "#2a3f5f"
            },
            "error_y": {
             "color": "#2a3f5f"
            },
            "marker": {
             "line": {
              "color": "white",
              "width": 0.5
             },
             "pattern": {
              "fillmode": "overlay",
              "size": 10,
              "solidity": 0.2
             }
            },
            "type": "bar"
           }
          ],
          "barpolar": [
           {
            "marker": {
             "line": {
              "color": "white",
              "width": 0.5
             },
             "pattern": {
              "fillmode": "overlay",
              "size": 10,
              "solidity": 0.2
             }
            },
            "type": "barpolar"
           }
          ],
          "carpet": [
           {
            "aaxis": {
             "endlinecolor": "#2a3f5f",
             "gridcolor": "#C8D4E3",
             "linecolor": "#C8D4E3",
             "minorgridcolor": "#C8D4E3",
             "startlinecolor": "#2a3f5f"
            },
            "baxis": {
             "endlinecolor": "#2a3f5f",
             "gridcolor": "#C8D4E3",
             "linecolor": "#C8D4E3",
             "minorgridcolor": "#C8D4E3",
             "startlinecolor": "#2a3f5f"
            },
            "type": "carpet"
           }
          ],
          "choropleth": [
           {
            "colorbar": {
             "outlinewidth": 0,
             "ticks": ""
            },
            "type": "choropleth"
           }
          ],
          "contour": [
           {
            "colorbar": {
             "outlinewidth": 0,
             "ticks": ""
            },
            "colorscale": [
             [
              0,
              "#0d0887"
             ],
             [
              0.1111111111111111,
              "#46039f"
             ],
             [
              0.2222222222222222,
              "#7201a8"
             ],
             [
              0.3333333333333333,
              "#9c179e"
             ],
             [
              0.4444444444444444,
              "#bd3786"
             ],
             [
              0.5555555555555556,
              "#d8576b"
             ],
             [
              0.6666666666666666,
              "#ed7953"
             ],
             [
              0.7777777777777778,
              "#fb9f3a"
             ],
             [
              0.8888888888888888,
              "#fdca26"
             ],
             [
              1,
              "#f0f921"
             ]
            ],
            "type": "contour"
           }
          ],
          "contourcarpet": [
           {
            "colorbar": {
             "outlinewidth": 0,
             "ticks": ""
            },
            "type": "contourcarpet"
           }
          ],
          "heatmap": [
           {
            "colorbar": {
             "outlinewidth": 0,
             "ticks": ""
            },
            "colorscale": [
             [
              0,
              "#0d0887"
             ],
             [
              0.1111111111111111,
              "#46039f"
             ],
             [
              0.2222222222222222,
              "#7201a8"
             ],
             [
              0.3333333333333333,
              "#9c179e"
             ],
             [
              0.4444444444444444,
              "#bd3786"
             ],
             [
              0.5555555555555556,
              "#d8576b"
             ],
             [
              0.6666666666666666,
              "#ed7953"
             ],
             [
              0.7777777777777778,
              "#fb9f3a"
             ],
             [
              0.8888888888888888,
              "#fdca26"
             ],
             [
              1,
              "#f0f921"
             ]
            ],
            "type": "heatmap"
           }
          ],
          "histogram": [
           {
            "marker": {
             "pattern": {
              "fillmode": "overlay",
              "size": 10,
              "solidity": 0.2
             }
            },
            "type": "histogram"
           }
          ],
          "histogram2d": [
           {
            "colorbar": {
             "outlinewidth": 0,
             "ticks": ""
            },
            "colorscale": [
             [
              0,
              "#0d0887"
             ],
             [
              0.1111111111111111,
              "#46039f"
             ],
             [
              0.2222222222222222,
              "#7201a8"
             ],
             [
              0.3333333333333333,
              "#9c179e"
             ],
             [
              0.4444444444444444,
              "#bd3786"
             ],
             [
              0.5555555555555556,
              "#d8576b"
             ],
             [
              0.6666666666666666,
              "#ed7953"
             ],
             [
              0.7777777777777778,
              "#fb9f3a"
             ],
             [
              0.8888888888888888,
              "#fdca26"
             ],
             [
              1,
              "#f0f921"
             ]
            ],
            "type": "histogram2d"
           }
          ],
          "histogram2dcontour": [
           {
            "colorbar": {
             "outlinewidth": 0,
             "ticks": ""
            },
            "colorscale": [
             [
              0,
              "#0d0887"
             ],
             [
              0.1111111111111111,
              "#46039f"
             ],
             [
              0.2222222222222222,
              "#7201a8"
             ],
             [
              0.3333333333333333,
              "#9c179e"
             ],
             [
              0.4444444444444444,
              "#bd3786"
             ],
             [
              0.5555555555555556,
              "#d8576b"
             ],
             [
              0.6666666666666666,
              "#ed7953"
             ],
             [
              0.7777777777777778,
              "#fb9f3a"
             ],
             [
              0.8888888888888888,
              "#fdca26"
             ],
             [
              1,
              "#f0f921"
             ]
            ],
            "type": "histogram2dcontour"
           }
          ],
          "mesh3d": [
           {
            "colorbar": {
             "outlinewidth": 0,
             "ticks": ""
            },
            "type": "mesh3d"
           }
          ],
          "parcoords": [
           {
            "line": {
             "colorbar": {
              "outlinewidth": 0,
              "ticks": ""
             }
            },
            "type": "parcoords"
           }
          ],
          "pie": [
           {
            "automargin": true,
            "type": "pie"
           }
          ],
          "scatter": [
           {
            "fillpattern": {
             "fillmode": "overlay",
             "size": 10,
             "solidity": 0.2
            },
            "type": "scatter"
           }
          ],
          "scatter3d": [
           {
            "line": {
             "colorbar": {
              "outlinewidth": 0,
              "ticks": ""
             }
            },
            "marker": {
             "colorbar": {
              "outlinewidth": 0,
              "ticks": ""
             }
            },
            "type": "scatter3d"
           }
          ],
          "scattercarpet": [
           {
            "marker": {
             "colorbar": {
              "outlinewidth": 0,
              "ticks": ""
             }
            },
            "type": "scattercarpet"
           }
          ],
          "scattergeo": [
           {
            "marker": {
             "colorbar": {
              "outlinewidth": 0,
              "ticks": ""
             }
            },
            "type": "scattergeo"
           }
          ],
          "scattergl": [
           {
            "marker": {
             "colorbar": {
              "outlinewidth": 0,
              "ticks": ""
             }
            },
            "type": "scattergl"
           }
          ],
          "scattermap": [
           {
            "marker": {
             "colorbar": {
              "outlinewidth": 0,
              "ticks": ""
             }
            },
            "type": "scattermap"
           }
          ],
          "scattermapbox": [
           {
            "marker": {
             "colorbar": {
              "outlinewidth": 0,
              "ticks": ""
             }
            },
            "type": "scattermapbox"
           }
          ],
          "scatterpolar": [
           {
            "marker": {
             "colorbar": {
              "outlinewidth": 0,
              "ticks": ""
             }
            },
            "type": "scatterpolar"
           }
          ],
          "scatterpolargl": [
           {
            "marker": {
             "colorbar": {
              "outlinewidth": 0,
              "ticks": ""
             }
            },
            "type": "scatterpolargl"
           }
          ],
          "scatterternary": [
           {
            "marker": {
             "colorbar": {
              "outlinewidth": 0,
              "ticks": ""
             }
            },
            "type": "scatterternary"
           }
          ],
          "surface": [
           {
            "colorbar": {
             "outlinewidth": 0,
             "ticks": ""
            },
            "colorscale": [
             [
              0,
              "#0d0887"
             ],
             [
              0.1111111111111111,
              "#46039f"
             ],
             [
              0.2222222222222222,
              "#7201a8"
             ],
             [
              0.3333333333333333,
              "#9c179e"
             ],
             [
              0.4444444444444444,
              "#bd3786"
             ],
             [
              0.5555555555555556,
              "#d8576b"
             ],
             [
              0.6666666666666666,
              "#ed7953"
             ],
             [
              0.7777777777777778,
              "#fb9f3a"
             ],
             [
              0.8888888888888888,
              "#fdca26"
             ],
             [
              1,
              "#f0f921"
             ]
            ],
            "type": "surface"
           }
          ],
          "table": [
           {
            "cells": {
             "fill": {
              "color": "#EBF0F8"
             },
             "line": {
              "color": "white"
             }
            },
            "header": {
             "fill": {
              "color": "#C8D4E3"
             },
             "line": {
              "color": "white"
             }
            },
            "type": "table"
           }
          ]
         },
         "layout": {
          "annotationdefaults": {
           "arrowcolor": "#2a3f5f",
           "arrowhead": 0,
           "arrowwidth": 1
          },
          "autotypenumbers": "strict",
          "coloraxis": {
           "colorbar": {
            "outlinewidth": 0,
            "ticks": ""
           }
          },
          "colorscale": {
           "diverging": [
            [
             0,
             "#8e0152"
            ],
            [
             0.1,
             "#c51b7d"
            ],
            [
             0.2,
             "#de77ae"
            ],
            [
             0.3,
             "#f1b6da"
            ],
            [
             0.4,
             "#fde0ef"
            ],
            [
             0.5,
             "#f7f7f7"
            ],
            [
             0.6,
             "#e6f5d0"
            ],
            [
             0.7,
             "#b8e186"
            ],
            [
             0.8,
             "#7fbc41"
            ],
            [
             0.9,
             "#4d9221"
            ],
            [
             1,
             "#276419"
            ]
           ],
           "sequential": [
            [
             0,
             "#0d0887"
            ],
            [
             0.1111111111111111,
             "#46039f"
            ],
            [
             0.2222222222222222,
             "#7201a8"
            ],
            [
             0.3333333333333333,
             "#9c179e"
            ],
            [
             0.4444444444444444,
             "#bd3786"
            ],
            [
             0.5555555555555556,
             "#d8576b"
            ],
            [
             0.6666666666666666,
             "#ed7953"
            ],
            [
             0.7777777777777778,
             "#fb9f3a"
            ],
            [
             0.8888888888888888,
             "#fdca26"
            ],
            [
             1,
             "#f0f921"
            ]
           ],
           "sequentialminus": [
            [
             0,
             "#0d0887"
            ],
            [
             0.1111111111111111,
             "#46039f"
            ],
            [
             0.2222222222222222,
             "#7201a8"
            ],
            [
             0.3333333333333333,
             "#9c179e"
            ],
            [
             0.4444444444444444,
             "#bd3786"
            ],
            [
             0.5555555555555556,
             "#d8576b"
            ],
            [
             0.6666666666666666,
             "#ed7953"
            ],
            [
             0.7777777777777778,
             "#fb9f3a"
            ],
            [
             0.8888888888888888,
             "#fdca26"
            ],
            [
             1,
             "#f0f921"
            ]
           ]
          },
          "colorway": [
           "#636efa",
           "#EF553B",
           "#00cc96",
           "#ab63fa",
           "#FFA15A",
           "#19d3f3",
           "#FF6692",
           "#B6E880",
           "#FF97FF",
           "#FECB52"
          ],
          "font": {
           "color": "#2a3f5f"
          },
          "geo": {
           "bgcolor": "white",
           "lakecolor": "white",
           "landcolor": "white",
           "showlakes": true,
           "showland": true,
           "subunitcolor": "#C8D4E3"
          },
          "hoverlabel": {
           "align": "left"
          },
          "hovermode": "closest",
          "mapbox": {
           "style": "light"
          },
          "paper_bgcolor": "white",
          "plot_bgcolor": "white",
          "polar": {
           "angularaxis": {
            "gridcolor": "#EBF0F8",
            "linecolor": "#EBF0F8",
            "ticks": ""
           },
           "bgcolor": "white",
           "radialaxis": {
            "gridcolor": "#EBF0F8",
            "linecolor": "#EBF0F8",
            "ticks": ""
           }
          },
          "scene": {
           "xaxis": {
            "backgroundcolor": "white",
            "gridcolor": "#DFE8F3",
            "gridwidth": 2,
            "linecolor": "#EBF0F8",
            "showbackground": true,
            "ticks": "",
            "zerolinecolor": "#EBF0F8"
           },
           "yaxis": {
            "backgroundcolor": "white",
            "gridcolor": "#DFE8F3",
            "gridwidth": 2,
            "linecolor": "#EBF0F8",
            "showbackground": true,
            "ticks": "",
            "zerolinecolor": "#EBF0F8"
           },
           "zaxis": {
            "backgroundcolor": "white",
            "gridcolor": "#DFE8F3",
            "gridwidth": 2,
            "linecolor": "#EBF0F8",
            "showbackground": true,
            "ticks": "",
            "zerolinecolor": "#EBF0F8"
           }
          },
          "shapedefaults": {
           "line": {
            "color": "#2a3f5f"
           }
          },
          "ternary": {
           "aaxis": {
            "gridcolor": "#DFE8F3",
            "linecolor": "#A2B1C6",
            "ticks": ""
           },
           "baxis": {
            "gridcolor": "#DFE8F3",
            "linecolor": "#A2B1C6",
            "ticks": ""
           },
           "bgcolor": "white",
           "caxis": {
            "gridcolor": "#DFE8F3",
            "linecolor": "#A2B1C6",
            "ticks": ""
           }
          },
          "title": {
           "x": 0.05
          },
          "xaxis": {
           "automargin": true,
           "gridcolor": "#EBF0F8",
           "linecolor": "#EBF0F8",
           "ticks": "",
           "title": {
            "standoff": 15
           },
           "zerolinecolor": "#EBF0F8",
           "zerolinewidth": 2
          },
          "yaxis": {
           "automargin": true,
           "gridcolor": "#EBF0F8",
           "linecolor": "#EBF0F8",
           "ticks": "",
           "title": {
            "standoff": 15
           },
           "zerolinecolor": "#EBF0F8",
           "zerolinewidth": 2
          }
         }
        },
        "title": {
         "font": {
          "size": 20
         },
         "text": "User Conversion Funnel: From View to Purchase",
         "x": 0.5,
         "xanchor": "center",
         "y": 0.9,
         "yanchor": "top"
        }
       }
      }
     },
     "metadata": {},
     "output_type": "display_data"
    }
   ],
   "source": [
    "# --- 5. Visualize the Funnel ---\n",
    "if 'funnel_summary' in locals():\n",
    "    fig = go.Figure(go.Funnel(\n",
    "        y = funnel_summary['Step'],\n",
    "        x = funnel_summary['Count'],\n",
    "        textposition = \"inside\",\n",
    "        # This textinfo provides maximum clarity on the chart itself\n",
    "        textinfo = \"value+percent initial+percent previous\",\n",
    "        opacity = 0.8,\n",
    "        marker = {\"color\": [\"#4E79A7\", \"#F28E2B\", \"#59A14F\"], # A clear, professional color palette\n",
    "                  \"line\": {\"width\": [2, 2, 2], \"color\": [\"#3B597F\", \"#C27122\", \"#47813F\"]}},\n",
    "        connector = {\"line\": {\"color\": \"grey\", \"dash\": \"dot\", \"width\": 3}}\n",
    "    ))\n",
    "\n",
    "    fig.update_layout(\n",
    "        title={\n",
    "            'text': \"User Conversion Funnel: From View to Purchase\",\n",
    "            'y':0.9,\n",
    "            'x':0.5,\n",
    "            'xanchor': 'center',\n",
    "            'yanchor': 'top',\n",
    "            'font': {'size': 20}\n",
    "        },\n",
    "        font=dict(\n",
    "            family=\"Arial, sans-serif\",\n",
    "            size=12,\n",
    "            color=\"black\"\n",
    "        )\n",
    "    )\n",
    "\n",
    "    fig.show()"
   ]
  },
  {
   "cell_type": "markdown",
   "id": "698c999e-f0b7-4aaa-99d3-5d57956c8bf7",
   "metadata": {},
   "source": [
    "### 6. Investigation Findings and Next Steps\n",
    "\n",
    "**Analysis:**\n",
    "The funnel chart provides a stark and immediate answer to our investigation, validating our \"Failure to Activate\" hypothesis from Notebook 1.\n",
    "\n",
    "1.  **The \"Discovery to Consideration\" Bottleneck:** The primary reason for our low retention is immediately obvious. Of all the user sessions that view a product, **only 8% proceed to add an item to their cart**. This means 92% of user interest evaporates at this single step. This is the main leakage point.\n",
    "\n",
    "2.  **High-Intent \"Consideration to Purchase\" Conversion:** In stark contrast, the conversion from `Cart` to `Purchase` is a relatively healthy **59.3%**. This is a crucial insight: if we can get a user to add an item to their cart, they are highly likely to buy it.\n",
    "\n",
    "**Conclusion:**\n",
    "Our investigation successfully pinpoints the root cause of the catastrophic 2-6% retention we diagnosed. The problem is not that users are abandoning carts; **the core problem is that the vast majority of users never even begin the purchasing process.** They look at products but fail to take the crucial next step of adding to the cart. This explains the activation failure.\n",
    "\n",
    "**Next Steps:**\n",
    "We've established a clear chain of logic:\n",
    "- Low retention is caused by an activation failure.\n",
    "- Activation failure is caused by a massive drop-off between viewing a product and adding it to a cart.\n",
    "\n",
    "The final question is: **what separates the users who *do* cross this chasm from those who don't?** What behaviors or user characteristics are predictive of a successful activation (i.e., a first purchase)?\n",
    "\n",
    "Our next notebook, **`03_Insight_Interpretable_Modeling.ipynb`**, will build a model to answer this question, giving us the final insight needed to design a data-driven solution."
   ]
  }
 ],
 "metadata": {
  "kernelspec": {
   "display_name": "Python 3 (ipykernel)",
   "language": "python",
   "name": "python3"
  },
  "language_info": {
   "codemirror_mode": {
    "name": "ipython",
    "version": 3
   },
   "file_extension": ".py",
   "mimetype": "text/x-python",
   "name": "python",
   "nbconvert_exporter": "python",
   "pygments_lexer": "ipython3",
   "version": "3.13.5"
  }
 },
 "nbformat": 4,
 "nbformat_minor": 5
}
